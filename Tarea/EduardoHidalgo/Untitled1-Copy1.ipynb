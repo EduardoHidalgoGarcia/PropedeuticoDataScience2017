{
 "cells": [
  {
   "cell_type": "markdown",
   "metadata": {},
   "source": [
    "### Tarea 2\n",
    "\n",
    "\n",
    "## 1) Teoría de Álgebra y Optimización\n",
    "\n",
    "# ¿Por qué una matriz equivale a una transformación lineal entre espacios vectoriales?\n",
    "\n",
    "Una transformación linea es una regla de correspondencia $\\mathbf T : \\mathbb{R}^m \\rightarrow \\mathbb{R}^n $ que cumple: </p>\n",
    "+ 1) $\\mathbf T(\\overrightarrow{x}+\\overrightarrow{y}) = T(\\overrightarrow{x}) + T(\\overrightarrow{y});$   $ \\forall \\overrightarrow{x},\\overrightarrow{y} \\in \\mathbb{R}^m  $ </p>\n",
    "+ 2) $T(\\alpha \\overrightarrow{x})=\\alpha T( \\overrightarrow{x})$ </p>\n",
    "<p>Por lo que si $\\mathbf A$ es una matriz de dimensiones $\\mathbf m\\times n$ y $\\overrightarrow{x}$ es un vector de de dimensiones $\\mathbf n\\times1$, entonces el vector definido por la transformacion  $\\mathbf A\\overrightarrow{x}=\\overrightarrow{y}$ será de dimensiones $\\mathbf m\\times1$ y cumplira con 1) y 2)</p>\n",
    "\n",
    "# ¿Cúal es el efecto de transformacion lineal de una matriz diagonal?;¿El de una ortogonal?\n",
    "\n",
    "+ 1) <p>Las matrices diagonales redimensionan el \"volumen\" del espacio vectoriañ definido por el $\\mathbf span(\\overrightarrow{x})$</p>\n",
    "+ 2)<p>Las matrices ortogonales son matrices de rotación (cuando su determinante es igual 1) o son matrices de reflexión (cuando su determinante es igal a -1). Estas cumplen con  $\\mathbf A  A^{T}=I \\Rightarrow A^{T}= A^{-1} $ </p>\n",
    "\n",
    "# ¿Qué es la descomposición en valores singulares de una matriz?\n",
    "\n",
    "<p>Es un resultado del álgebra que dice que para cualquier matriz $\\mathbf A \\in \\mathbb{R}_{m \\times n}$ existe una representacion de la misma como el producto de tres matrices:</p>\n",
    "\n",
    "- <p>$\\mathbf A = U\\Sigma V^{T}$ </p> \n",
    "<p>Donde $\\mathbf U,V^{T}$ son matrices ortogonales (o de rotación/reflexión) y $\\Sigma$ es una \"Semi\"-matriz diagonal (o de reescalamiento), por ejemplo</p>  \n",
    "+ <p>(si $\\mathbf m = 3$ n $ $ y$ $ n = 6$): $\\begin{bmatrix}\n",
    " 1,  0,  0,  0,  0 \\\\ \n",
    " 0,  1,  0,  0,  0 \\\\ \n",
    " 0,  0,  1,  0,  0 \n",
    "\\end{bmatrix}</p>  o \n",
    "+ <p>(si $\\mathbf m = 6 $ $ y$ $ n = 3$): $\\begin{bmatrix}\n",
    " 1,  0,  0\\\\ \n",
    " 0,  1,  0\\\\ \n",
    " 0,  0,  1\\\\ \n",
    " 0,  0,  0\\\\ \n",
    " 0,  0,  0\\\\ \n",
    " 0,  0,  0  \n",
    "\\end{bmatrix}$ </p> \n",
    "\n"
   ]
  },
  {
   "cell_type": "code",
   "execution_count": null,
   "metadata": {
    "collapsed": true
   },
   "outputs": [],
   "source": []
  }
 ],
 "metadata": {
  "kernelspec": {
   "display_name": "Python 3",
   "language": "python",
   "name": "python3"
  },
  "language_info": {
   "codemirror_mode": {
    "name": "ipython",
    "version": 3
   },
   "file_extension": ".py",
   "mimetype": "text/x-python",
   "name": "python",
   "nbconvert_exporter": "python",
   "pygments_lexer": "ipython3",
   "version": "3.6.1"
  }
 },
 "nbformat": 4,
 "nbformat_minor": 2
}
